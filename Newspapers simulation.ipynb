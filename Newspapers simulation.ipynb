{
 "cells": [
  {
   "cell_type": "markdown",
   "id": "401d19cf",
   "metadata": {},
   "source": [
    ">> ## get the news type and demand"
   ]
  },
  {
   "cell_type": "code",
   "execution_count": 1,
   "id": "9904d420",
   "metadata": {},
   "outputs": [],
   "source": [
    "def RN(nt,d):\n",
    "    # good news\n",
    "    if 35 >= nt >= 1:\n",
    "        if 3 >= d >= 1:\n",
    "            return 40;\n",
    "        elif 8 >= d >= 4 :\n",
    "            return 50;\n",
    "        elif 23 >= d >= 9:\n",
    "            return 60;\n",
    "        elif 43 >= d >= 24:\n",
    "            return 70;\n",
    "        elif 78 >= d >= 44:\n",
    "            return 80;\n",
    "        elif 93 >= d >= 79:\n",
    "            return 90;\n",
    "        elif 99 >= d >= 94 or d == 0:\n",
    "            return 100;\n",
    "    # fair news\n",
    "    if 80 >= nt >= 36:\n",
    "        if 10 >= d >= 1:\n",
    "            return 40;\n",
    "        elif 28 >= d >= 11 :\n",
    "            return 50;\n",
    "        elif 68 >= d >= 29:\n",
    "            return 60;\n",
    "        elif 88 >= d >= 69:\n",
    "            return 70;\n",
    "        elif 96 >= d >= 89:\n",
    "            return 80;\n",
    "        elif 99 >= d >= 97 or d == 0:\n",
    "            return 90;\n",
    "    # poor news\n",
    "    if 99 >= nt >= 81 or nt == 0:\n",
    "        if 44 >= d >= 1:\n",
    "            return 40;\n",
    "        elif 66 >= d >= 45 :\n",
    "            return 50;\n",
    "        elif 82 >= d >= 67:\n",
    "            return 60;\n",
    "        elif 94 >= d >= 83:\n",
    "            return 70;\n",
    "        elif 99 >= d >= 95 or d == 0:\n",
    "            return 80;"
   ]
  },
  {
   "cell_type": "markdown",
   "id": "7231dc23",
   "metadata": {},
   "source": [
    ">> ## calculate Revenue from sales"
   ]
  },
  {
   "cell_type": "code",
   "execution_count": 2,
   "id": "7735429c",
   "metadata": {},
   "outputs": [],
   "source": [
    "def rev(p,demand):\n",
    "    if p <= demand :\n",
    "        return p * 0.5 ;\n",
    "    else:\n",
    "        return demand * 0.5;"
   ]
  },
  {
   "cell_type": "markdown",
   "id": "2d1bd3a1",
   "metadata": {},
   "source": [
    ">> ## calcuate lost profit"
   ]
  },
  {
   "cell_type": "code",
   "execution_count": 3,
   "id": "863b1099",
   "metadata": {},
   "outputs": [],
   "source": [
    "def lose_prof(p,demand):\n",
    "    if demand > p :\n",
    "        return (demand - p) * 0.17;\n",
    "    else:\n",
    "        return 0;"
   ]
  },
  {
   "cell_type": "markdown",
   "id": "1fecff21",
   "metadata": {},
   "source": [
    ">> ## calculate scrap revenue"
   ]
  },
  {
   "cell_type": "code",
   "execution_count": 4,
   "id": "fcd46dc1",
   "metadata": {},
   "outputs": [],
   "source": [
    "def scrap(p,demand):\n",
    "    if p > demand:\n",
    "        return (p - demand) * 0.05;\n",
    "    else:\n",
    "        return 0;"
   ]
  },
  {
   "cell_type": "markdown",
   "id": "3c253f1a",
   "metadata": {},
   "source": [
    ">> ## get daily profit for 70 purchase item daily"
   ]
  },
  {
   "cell_type": "code",
   "execution_count": 5,
   "id": "2a518b13",
   "metadata": {},
   "outputs": [],
   "source": [
    "def purch_70(p,nt,d):\n",
    "    purchase = p\n",
    "    cost_of_np = purchase * 0.33\n",
    "    daily_profit = []\n",
    "    for i in range(0,len(nt)) :\n",
    "        demand = RN(nt[i],d[i])\n",
    "        rev_sales = rev(purchase,demand)\n",
    "        lost_prof = lose_prof(purchase,demand)\n",
    "        scrap_rev = scrap(purchase,demand)\n",
    "        daily_profit.append(rev_sales - cost_of_np - lost_prof + scrap_rev)\n",
    "    return sum(daily_profit);"
   ]
  },
  {
   "cell_type": "markdown",
   "id": "3abbe43a",
   "metadata": {},
   "source": [
    ">> ## get daily profit for 60 purchase item daily"
   ]
  },
  {
   "cell_type": "code",
   "execution_count": 6,
   "id": "8b199e24",
   "metadata": {},
   "outputs": [],
   "source": [
    "def purch_60(p,nt,d):\n",
    "    purchase = p\n",
    "    cost_of_np = purchase * 0.33\n",
    "    daily_profit = []\n",
    "    for i in range(0,len(nt)) :\n",
    "        demand = RN(nt[i],d[i])\n",
    "        rev_sales = rev(purchase,demand)\n",
    "        lost_prof = lose_prof(purchase,demand)\n",
    "        scrap_rev = scrap(purchase,demand)\n",
    "        daily_profit.append(rev_sales - cost_of_np - lost_prof + scrap_rev)\n",
    "    return sum(daily_profit);"
   ]
  },
  {
   "cell_type": "markdown",
   "id": "f7d10f7b",
   "metadata": {},
   "source": [
    ">> ## get daily profit for 50 purchase item daily"
   ]
  },
  {
   "cell_type": "code",
   "execution_count": 7,
   "id": "ac30df01",
   "metadata": {},
   "outputs": [],
   "source": [
    "def purch_50(p,nt,d):\n",
    "    purchase = p\n",
    "    cost_of_np = purchase * 0.33\n",
    "    daily_profit = []\n",
    "    for i in range(0,len(nt)) :\n",
    "        demand = RN(nt[i],d[i])\n",
    "        rev_sales = rev(purchase,demand)\n",
    "        lost_prof = lose_prof(purchase,demand)\n",
    "        scrap_rev = scrap(purchase,demand)\n",
    "        daily_profit.append(rev_sales - cost_of_np - lost_prof + scrap_rev)\n",
    "    return sum(daily_profit);"
   ]
  },
  {
   "cell_type": "markdown",
   "id": "ef0389c1",
   "metadata": {},
   "source": [
    ">> ## get the highest profit"
   ]
  },
  {
   "cell_type": "code",
   "execution_count": 8,
   "id": "4c36a4a7",
   "metadata": {},
   "outputs": [],
   "source": [
    "def high_prof(x,y,z):\n",
    "    if x > y and x > z:\n",
    "        return x;\n",
    "    elif y > x and y > z:\n",
    "        return y;\n",
    "    else:\n",
    "        return z;"
   ]
  },
  {
   "cell_type": "markdown",
   "id": "12170548",
   "metadata": {},
   "source": [
    ">> ## Start simulation"
   ]
  },
  {
   "cell_type": "code",
   "execution_count": 9,
   "id": "0edc61a3",
   "metadata": {},
   "outputs": [
    {
     "name": "stdout",
     "output_type": "stream",
     "text": [
      "Total daily profit for '70' Purchased Items Daily = 56.499999999999986 \n",
      "Total daily profit for '60' Purchased Items Daily = 90.1 \n",
      "Total daily profit for '50' Purchased Items Daily = 53.89999999999999\n",
      "It is recommended that the newspaper seller 90.1 newspaper per day because it's the highest profit\n"
     ]
    }
   ],
   "source": [
    "if __name__ == '__main__':\n",
    "    # Enter your purchace item daily, RN for NT and RN for Demand\n",
    "    purchase_70 = 70\n",
    "    RN_NT_70 = [86,32,73,24,76,38,45,18,44,12]\n",
    "    RN_Demand_70 = [4,39,66,89,97,24,9,55,15,17]\n",
    "    \n",
    "    purchase_60 = 60\n",
    "    RN_NT_60 = [54,60,40,80,14,3,26,57,36,11]\n",
    "    RN_Demand_60 = [78,49,50,75,53,46,11,65,66,30]\n",
    "    \n",
    "    purchase_50 = 50\n",
    "    RN_NT_50 = [26,41,16,66,77,92,88,30,27,69]\n",
    "    RN_Demand_50 = [20,50,85,59,14,16,25,19,18,99]\n",
    "    \n",
    "    # get daily profit sum for each purchase item\n",
    "    sum_prof_70 = purch_70(purchase_70, RN_NT_70, RN_Demand_70)\n",
    "    sum_prof_60 = purch_60(purchase_60, RN_NT_60, RN_Demand_60)\n",
    "    sum_prof_50 = purch_50(purchase_50, RN_NT_50, RN_Demand_50)\n",
    "    \n",
    "    # get the highest profit\n",
    "    highest_prof = high_prof(sum_prof_50,sum_prof_60,sum_prof_70)\n",
    "    \n",
    "    print(\"Total daily profit for '70' Purchased Items Daily =\",\n",
    "          sum_prof_70,\"\\nTotal daily profit for '60' Purchased Items Daily =\",\n",
    "          sum_prof_60,\"\\nTotal daily profit for '50' Purchased Items Daily =\",\n",
    "          sum_prof_50)\n",
    "    \n",
    "    print(\"It is recommended that the newspaper seller {} newspaper per day because it's the highest profit\".format(highest_prof))"
   ]
  },
  {
   "cell_type": "code",
   "execution_count": null,
   "id": "41e2654f",
   "metadata": {},
   "outputs": [],
   "source": []
  }
 ],
 "metadata": {
  "kernelspec": {
   "display_name": "Python 3 (ipykernel)",
   "language": "python",
   "name": "python3"
  },
  "language_info": {
   "codemirror_mode": {
    "name": "ipython",
    "version": 3
   },
   "file_extension": ".py",
   "mimetype": "text/x-python",
   "name": "python",
   "nbconvert_exporter": "python",
   "pygments_lexer": "ipython3",
   "version": "3.9.12"
  }
 },
 "nbformat": 4,
 "nbformat_minor": 5
}
