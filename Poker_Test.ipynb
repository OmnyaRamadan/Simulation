{
 "cells": [
  {
   "cell_type": "markdown",
   "id": "02490644",
   "metadata": {},
   "source": [
    "### Oi > observed distribution\n",
    "### Ei > expected \n",
    "### chi_alpha > critical value\n",
    "### chi_0 > caculated value"
   ]
  },
  {
   "cell_type": "code",
   "execution_count": 1,
   "id": "4197cc17",
   "metadata": {},
   "outputs": [
    {
     "name": "stdout",
     "output_type": "stream",
     "text": [
      "chi_0 = 11.01660052910053\n",
      "\n",
      "The hypothesis of the independence is 'accepted'.\n"
     ]
    }
   ],
   "source": [
    "Oi = [3075,4935,1135,695,105,54,1]\n",
    "Ei = [3024,5040,1080,720,90,45,1]\n",
    "chi_alpha = 16.8\n",
    "chi_0 = 0\n",
    "for i in range(0,len(Oi)):\n",
    "    chi_0 += (((Oi[i]-Ei[i])**2)/Ei[i])\n",
    "print(\"chi_0 =\",chi_0)\n",
    "if chi_0 < chi_alpha:\n",
    "    print(\"\\nThe hypothesis of the independence is 'accepted'.\")\n",
    "else:\n",
    "    print(\"\\nThe hypothesis of the independence is 'not accepted'.\")"
   ]
  }
 ],
 "metadata": {
  "kernelspec": {
   "display_name": "Python 3 (ipykernel)",
   "language": "python",
   "name": "python3"
  },
  "language_info": {
   "codemirror_mode": {
    "name": "ipython",
    "version": 3
   },
   "file_extension": ".py",
   "mimetype": "text/x-python",
   "name": "python",
   "nbconvert_exporter": "python",
   "pygments_lexer": "ipython3",
   "version": "3.9.12"
  }
 },
 "nbformat": 4,
 "nbformat_minor": 5
}
