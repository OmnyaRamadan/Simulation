{
 "cells": [
  {
   "cell_type": "code",
   "execution_count": 1,
   "id": "19eb3908",
   "metadata": {},
   "outputs": [],
   "source": [
    "import numpy as np\n",
    "import pandas as pd"
   ]
  },
  {
   "cell_type": "code",
   "execution_count": 2,
   "id": "a5dbdde8",
   "metadata": {},
   "outputs": [],
   "source": [
    "# Assign data\n",
    "RND = [[24,35,65,81,54],[3,87,27,73,70],[47,45,48,17,9],[42,87,26,36,40],[7,63,19,88,94]]\n",
    "RNL = [[0,0,0,0,5],[0,0,0,0,0],[0,0,0,0,3],[0,0,0,0,4],[0,0,0,0,8]]\n",
    "M,N,C,fill,demand = 11,5,5,8,[]\n",
    "shortage = np.zeros((N,C))\n",
    "order = np.zeros((N,C))\n",
    "inv_beg = np.zeros((N,C))\n",
    "inv_end = np.zeros((N,C))\n",
    "lead_time = np.zeros((N,C))\n",
    "shortage_times = 0"
   ]
  },
  {
   "cell_type": "code",
   "execution_count": 3,
   "id": "09d44b12",
   "metadata": {},
   "outputs": [],
   "source": [
    "#Get the Random Digit Assignment for Demand\n",
    "def Demand(RND):\n",
    "    if RND in range(1,11):\n",
    "        return 0\n",
    "    elif RND in range(11,36):\n",
    "        return 1\n",
    "    elif RND in range(36,71):\n",
    "        return 2\n",
    "    elif RND in range(71,92):\n",
    "        return 3\n",
    "    elif RND in range(92,100):\n",
    "        return 4"
   ]
  },
  {
   "cell_type": "code",
   "execution_count": 4,
   "id": "b051d0b3",
   "metadata": {},
   "outputs": [],
   "source": [
    "#Get the Random Digit Assignment for lead time\n",
    "def leadtime(RNL):\n",
    "    if RNL in range(1,7):\n",
    "        return 1\n",
    "    elif RNL in range(7,10):\n",
    "        return 2\n",
    "    elif RNL == 0:\n",
    "        return 3"
   ]
  },
  {
   "cell_type": "code",
   "execution_count": 5,
   "id": "5b44df76",
   "metadata": {},
   "outputs": [],
   "source": [
    "for i in range(0,C): #cycle \n",
    "    for j in range(0,N):\n",
    "        \n",
    "        # Calculate Demand\n",
    "        D = Demand(RND[i][j])\n",
    "        demand.append(D)\n",
    "        \n",
    "        # Initial state\n",
    "        if i == 0 and j == 0:\n",
    "            inv_beg[i][j] = 3\n",
    "            lead_time[i][j] = 2\n",
    "        \n",
    "        # Calculte Inventory begin and reduce lead time\n",
    "        elif i > 0 and j == 0:         # بدايه cycly\n",
    "            lead_time[i][j] = lead_time[i-1][4] - 1 #  lead time يقل يوم \n",
    "            inv_beg[i][j] = inv_end[i-1][4]  \n",
    "\n",
    "        else:\n",
    "            lead_time[i][j] = lead_time[i][j-1] - 1   # لو مش بدايه cycly \n",
    "\n",
    "            if int(lead_time[i][j]) == 0:   # لما lead time بيساوى صفر\n",
    "                                            # بعمل refill\n",
    "                inv_beg[i][j] = inv_end[i][j-1] + fill - shortage[i][j-1]\n",
    "\n",
    "            else:\n",
    "                inv_beg[i][j] = inv_end[i][j-1]   # لما lead time مش بيساوى صفر\n",
    "            \n",
    "        # Calculate shortage\n",
    "        if D > inv_beg[i][j]:\n",
    "            shortage[i][j] = shortage[i][j-1] + (D - inv_beg[i][j])\n",
    "            shortage_times += 1\n",
    "            inv_beg[i][j] = 0  # عشان متبقاش سالب\n",
    "        \n",
    "        # Calculate Inventory End\n",
    "        else:\n",
    "            inv_end[i][j] = inv_beg[i][j] - D\n",
    "        \n",
    "        # Make an order and calculate Lead time\n",
    "        if j == 4:       # اخر يوم ف cycle\n",
    "            order[i][j] = M - inv_end[i][j] + shortage[i][j]\n",
    "            lead_time[i][j] = leadtime(RNL[i][j]) + 1\n",
    "            fill = order[i][j]\n",
    "        \n",
    "        # Edit lead time values\n",
    "        if lead_time[i][j] < 0 :\n",
    "            lead_time[i][j] = 0"
   ]
  },
  {
   "cell_type": "code",
   "execution_count": 6,
   "id": "30ee2658",
   "metadata": {},
   "outputs": [],
   "source": [
    "# Generate Days and Cycles\n",
    "Cycles,Days = [],[]\n",
    "for i in range(1,6):\n",
    "    for k in range(1,6):\n",
    "        Cycles.append(i)\n",
    "for j in range(1,26):\n",
    "    Days.append(j)"
   ]
  },
  {
   "cell_type": "code",
   "execution_count": 7,
   "id": "3295fe1a",
   "metadata": {},
   "outputs": [],
   "source": [
    "# convert 2D Numpy array to 1D Numpy array\n",
    "sum_inv_end = sum(inv_end)\n",
    "inv_beg = np.ravel(inv_beg)\n",
    "inv_end = np.ravel(inv_end)\n",
    "RND = np.ravel(RND)\n",
    "RNL = np.ravel(RNL)\n",
    "shortage = np.ravel(shortage)\n",
    "order = np.ravel(order)\n",
    "lead_time = np.ravel(lead_time)"
   ]
  },
  {
   "cell_type": "code",
   "execution_count": 8,
   "id": "d75804ce",
   "metadata": {
    "scrolled": false
   },
   "outputs": [
    {
     "name": "stdout",
     "output_type": "stream",
     "text": [
      "    Cycle  Days  INV_B  RND  Demand  INV_End  Shortage  Order  RNL  Lead\n",
      "0       1     1    3.0   24       1      2.0       0.0    0.0    0   2.0\n",
      "1       1     2    2.0   35       1      1.0       0.0    0.0    0   1.0\n",
      "2       1     3    9.0   65       2      7.0       0.0    0.0    0   0.0\n",
      "3       1     4    7.0   81       3      4.0       0.0    0.0    0   0.0\n",
      "4       1     5    4.0   54       2      2.0       0.0    9.0    5   2.0\n",
      "5       2     6    2.0    3       0      2.0       0.0    0.0    0   1.0\n",
      "6       2     7   11.0   87       3      8.0       0.0    0.0    0   0.0\n",
      "7       2     8    8.0   27       1      7.0       0.0    0.0    0   0.0\n",
      "8       2     9    7.0   73       3      4.0       0.0    0.0    0   0.0\n",
      "9       2    10    4.0   70       2      2.0       0.0    9.0    0   4.0\n",
      "10      3    11    2.0   47       2      0.0       0.0    0.0    0   3.0\n",
      "11      3    12    0.0   45       2      0.0       2.0    0.0    0   2.0\n",
      "12      3    13    0.0   48       2      0.0       4.0    0.0    0   1.0\n",
      "13      3    14    5.0   17       1      4.0       0.0    0.0    0   0.0\n",
      "14      3    15    4.0    9       0      4.0       0.0    7.0    3   2.0\n",
      "15      4    16    4.0   42       2      2.0       0.0    0.0    0   1.0\n",
      "16      4    17    9.0   87       3      6.0       0.0    0.0    0   0.0\n",
      "17      4    18    6.0   26       1      5.0       0.0    0.0    0   0.0\n",
      "18      4    19    5.0   36       2      3.0       0.0    0.0    0   0.0\n",
      "19      4    20    3.0   40       2      1.0       0.0   10.0    4   2.0\n",
      "20      5    21    1.0    7       0      1.0       0.0    0.0    0   1.0\n",
      "21      5    22   11.0   63       2      9.0       0.0    0.0    0   0.0\n",
      "22      5    23    9.0   19       1      8.0       0.0    0.0    0   0.0\n",
      "23      5    24    8.0   88       3      5.0       0.0    0.0    0   0.0\n",
      "24      5    25    5.0   94       4      1.0       0.0   10.0    8   3.0\n"
     ]
    }
   ],
   "source": [
    "# Create Pandas DataFrame\n",
    "\n",
    "data = {\n",
    "    \"Cycle\" : Cycles,\n",
    "    \"Days\" : Days,\n",
    "    \"INV_B\" : inv_beg,\n",
    "    \"RND\" : RND,\n",
    "    \"Demand\" : demand,\n",
    "    \"INV_End\" : inv_end,\n",
    "    \"Shortage\" : shortage,\n",
    "    \"Order\" : order,\n",
    "    \"RNL\" : RNL,\n",
    "    \"Lead\" : lead_time\n",
    "}\n",
    "series = pd.DataFrame(data)\n",
    "print(series)"
   ]
  },
  {
   "cell_type": "code",
   "execution_count": 9,
   "id": "1d020919",
   "metadata": {},
   "outputs": [
    {
     "name": "stdout",
     "output_type": "stream",
     "text": [
      "Average End of Inentory = 3.52 units.\n",
      "The number of shortage times = 2 times out of 25 days.\n"
     ]
    }
   ],
   "source": [
    "# Calculate Inventory End Average and shortage times\n",
    "print(\"Average End of Inentory =\",sum(sum_inv_end)/(N*C),\"units.\")\n",
    "print(\"The number of shortage times = {} times out of {} days.\".format(shortage_times,(N*C)))"
   ]
  },
  {
   "cell_type": "code",
   "execution_count": null,
   "id": "55eccba4",
   "metadata": {},
   "outputs": [],
   "source": []
  }
 ],
 "metadata": {
  "kernelspec": {
   "display_name": "Python 3 (ipykernel)",
   "language": "python",
   "name": "python3"
  },
  "language_info": {
   "codemirror_mode": {
    "name": "ipython",
    "version": 3
   },
   "file_extension": ".py",
   "mimetype": "text/x-python",
   "name": "python",
   "nbconvert_exporter": "python",
   "pygments_lexer": "ipython3",
   "version": "3.9.12"
  }
 },
 "nbformat": 4,
 "nbformat_minor": 5
}
