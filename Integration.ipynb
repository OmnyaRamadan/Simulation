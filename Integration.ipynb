{
 "cells": [
  {
   "cell_type": "code",
   "execution_count": 1,
   "id": "eef58e9a",
   "metadata": {},
   "outputs": [
    {
     "name": "stdout",
     "output_type": "stream",
     "text": [
      "M =  8\n",
      "N =  20\n",
      "A =  420\n",
      "I =  168.0\n"
     ]
    }
   ],
   "source": [
    "RN_x = [22,25,18,45,25,27,48,43,40,47,38,33,24,47,42,25,33,50,34,21]\n",
    "RN_y = [57,18,0,90,5,77,66,10,76,42,78,88,3,9,77,61,27,60,29,40]\n",
    "N,M = 0,0\n",
    "A = 3 * 140\n",
    "for i in range(0,len(RN_x)):\n",
    "    if ((RN_x[i] * 0.1) ** 3) > (RN_y[i] * 0.01 * 140):\n",
    "        M += 1 \n",
    "    N += 1\n",
    "print(\"M = \",M)  \n",
    "print(\"N = \",N)\n",
    "print(\"A = \",A)\n",
    "print(\"I = \",(M/N)*A)"
   ]
  },
  {
   "cell_type": "code",
   "execution_count": null,
   "id": "198e042c",
   "metadata": {},
   "outputs": [],
   "source": []
  }
 ],
 "metadata": {
  "kernelspec": {
   "display_name": "Python 3 (ipykernel)",
   "language": "python",
   "name": "python3"
  },
  "language_info": {
   "codemirror_mode": {
    "name": "ipython",
    "version": 3
   },
   "file_extension": ".py",
   "mimetype": "text/x-python",
   "name": "python",
   "nbconvert_exporter": "python",
   "pygments_lexer": "ipython3",
   "version": "3.9.12"
  }
 },
 "nbformat": 4,
 "nbformat_minor": 5
}
