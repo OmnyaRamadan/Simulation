{
 "cells": [
  {
   "cell_type": "code",
   "execution_count": 14,
   "id": "bdfeaa2e",
   "metadata": {},
   "outputs": [
    {
     "name": "stdout",
     "output_type": "stream",
     "text": [
      "going one step Left\n",
      "going one step Forward\n",
      "going one step Forward\n",
      "going one step Left\n",
      "going one step Right\n",
      "going one step Left\n",
      "going one step Left\n",
      "going one step Left\n",
      "going one step Right\n",
      "going one step Right\n",
      "going one step Forward\n",
      "going one step Right\n",
      "going one step Forward\n",
      "going one step Left\n",
      "going one step Forward\n",
      "going one step Forward\n",
      "going one step Forward\n",
      "going one step Right\n",
      "going one step Right\n",
      "going one step Forward\n",
      "X_Coordinate =  0      Y_Coordinate =  8\n"
     ]
    }
   ],
   "source": [
    "RN = [6,2,0,6,8,5,7,7,9,8,4,8,2,6,2,1,3,9,8,4]\n",
    "x,y = 0,0\n",
    "for i in RN:\n",
    "    if i in range(0,5):\n",
    "        print(\"going one step Forward\")\n",
    "        y += 1\n",
    "    elif i in range(5,8):\n",
    "        print(\"going one step Left\")\n",
    "        x -= 1\n",
    "    else:\n",
    "        print(\"going one step Right\")\n",
    "        x += 1\n",
    "print('X_Coordinate = ',x,'    ','Y_Coordinate = ' ,y)"
   ]
  },
  {
   "cell_type": "code",
   "execution_count": null,
   "id": "4d9d54c3",
   "metadata": {},
   "outputs": [],
   "source": []
  }
 ],
 "metadata": {
  "kernelspec": {
   "display_name": "Python 3 (ipykernel)",
   "language": "python",
   "name": "python3"
  },
  "language_info": {
   "codemirror_mode": {
    "name": "ipython",
    "version": 3
   },
   "file_extension": ".py",
   "mimetype": "text/x-python",
   "name": "python",
   "nbconvert_exporter": "python",
   "pygments_lexer": "ipython3",
   "version": "3.9.12"
  }
 },
 "nbformat": 4,
 "nbformat_minor": 5
}
