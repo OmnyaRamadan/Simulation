{
 "cells": [
  {
   "cell_type": "code",
   "execution_count": 5,
   "id": "728c4534",
   "metadata": {},
   "outputs": [],
   "source": [
    "import math"
   ]
  },
  {
   "cell_type": "code",
   "execution_count": 6,
   "id": "8c421e41",
   "metadata": {},
   "outputs": [],
   "source": [
    "def count(arr,i,m,M):\n",
    "    sum = 0\n",
    "    for k in range(0,M+1):\n",
    "        sum += (arr[(i-1)+(k*m)] * arr[(i-1)+((k+1)*m)])\n",
    "        k += 1\n",
    "    return sum;"
   ]
  },
  {
   "cell_type": "code",
   "execution_count": 7,
   "id": "99b13755",
   "metadata": {},
   "outputs": [
    {
     "name": "stdout",
     "output_type": "stream",
     "text": [
      "Auto corellation = -0.19452\n",
      "Standard deviation = 0.12801909579781012\n",
      "Z_0 = -1.5194608178393916\n",
      "\n",
      "the hypothesis is not rejected\n"
     ]
    }
   ],
   "source": [
    "arr = [0.12,0.01,0.23,0.28,0.89,0.31,0.64,0.28,0.83,0.93\n",
    "       ,0.99,0.15,0.33,0.35,0.91,0.41,0.60,0.27,0.75,0.88\n",
    "       ,0.68,0.49,0.05,0.43,0.95,0.58,0.19,0.36,0.69,0.87]\n",
    "i,j = 3,8\n",
    "m = j - i\n",
    "N = len(arr)\n",
    "M = int(((N-i)/m)-1)\n",
    "Z_alpha = 1.96\n",
    "RHO_im = ((1/(M+1)) * count(arr,i,m,M)) - 0.25\n",
    "SIGMA_RHO_im = math.sqrt((13*M)+7)/(12*(M+1))\n",
    "Z_0 = RHO_im/SIGMA_RHO_im\n",
    "print(\"Auto corellation = {}\\nStandard deviation = {}\\nZ_0 = {}\\n\".format(RHO_im,SIGMA_RHO_im,Z_0))\n",
    "if Z_0 <= Z_alpha and Z_0 >= (Z_alpha*-1):\n",
    "    print(\"the hypothesis is not rejected\")\n",
    "else :\n",
    "    print(\"the hypothesis is rejected\")"
   ]
  },
  {
   "cell_type": "code",
   "execution_count": null,
   "id": "97e2fa86",
   "metadata": {},
   "outputs": [],
   "source": []
  }
 ],
 "metadata": {
  "kernelspec": {
   "display_name": "Python 3 (ipykernel)",
   "language": "python",
   "name": "python3"
  },
  "language_info": {
   "codemirror_mode": {
    "name": "ipython",
    "version": 3
   },
   "file_extension": ".py",
   "mimetype": "text/x-python",
   "name": "python",
   "nbconvert_exporter": "python",
   "pygments_lexer": "ipython3",
   "version": "3.9.12"
  }
 },
 "nbformat": 4,
 "nbformat_minor": 5
}
