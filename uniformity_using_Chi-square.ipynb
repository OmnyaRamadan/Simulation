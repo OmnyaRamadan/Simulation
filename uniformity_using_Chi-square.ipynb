{
 "cells": [
  {
   "cell_type": "code",
   "execution_count": 2,
   "id": "e6f4a60e",
   "metadata": {},
   "outputs": [],
   "source": [
    "import numpy as np"
   ]
  },
  {
   "cell_type": "code",
   "execution_count": 2,
   "id": "8f7e2b66",
   "metadata": {},
   "outputs": [],
   "source": [
    "def X_0_count(o,e):\n",
    "    X_0 = []\n",
    "    for i in range(0,len(o)):\n",
    "        X_0.append((abs(o[i] - e)**2)/e)\n",
    "    return X_0"
   ]
  },
  {
   "cell_type": "code",
   "execution_count": 3,
   "id": "bcacb73d",
   "metadata": {},
   "outputs": [],
   "source": [
    "def O_count(i,O):\n",
    "    if i in range(0,10):\n",
    "        O[0] += 1\n",
    "    elif i in range(10,20):\n",
    "        O[1] += 1\n",
    "    elif i in range(20,30):\n",
    "        O[2] += 1\n",
    "    elif i in range(30,40):\n",
    "        O[3] += 1\n",
    "    elif i in range(40,50):\n",
    "        O[4] += 1\n",
    "    elif i in range(50,60):\n",
    "        O[5] += 1\n",
    "    elif i in range(60,70):\n",
    "        O[6] += 1\n",
    "    elif i in range(70,80):\n",
    "        O[7] += 1\n",
    "    elif i in range(80,90):\n",
    "        O[8] += 1\n",
    "    elif i in range(90,100):\n",
    "        O[9] += 1\n",
    "    return O;"
   ]
  },
  {
   "cell_type": "code",
   "execution_count": 4,
   "id": "e40a3e12",
   "metadata": {},
   "outputs": [],
   "source": [
    "def interval(list):\n",
    "    E = 10\n",
    "    O_1 = np.zeros(10, dtype = int)\n",
    "    for i in list:\n",
    "        O = O_count(i,O_1)\n",
    "    print(O)\n",
    "    X_0 = X_0_count(O,E)\n",
    "    return sum(X_0)"
   ]
  },
  {
   "cell_type": "code",
   "execution_count": 5,
   "id": "e144f710",
   "metadata": {},
   "outputs": [
    {
     "name": "stdout",
     "output_type": "stream",
     "text": [
      "[12  8 11 12  8 13  5 10  9 11]\n",
      "X_0.95_9 = 16.9 \n",
      "X_0 = 5.299999999999999 \n",
      "The hypothesis is not rejected!\n"
     ]
    }
   ],
   "source": [
    "list = [36,91,51,2,54,6,58,6,58,2,54,1,48,97,43,22,83,25,\n",
    "        79,95,42,87,73,17,2,42,95,38,79,29,65,9,55,97,39,\n",
    "        83,31,77,17,62,3,49,90,37,13,17,58,11,51,92,33,78,\n",
    "        21,66,9,54,49,90,35,84,26,74,22,62,12,90,36,83,32,\n",
    "        75,31,94,34,87,40,7,58,5,56,22,58,77,71,10,73,23,\n",
    "        57,13,36,89,22,68,2,44,99,27,81,26,85]\n",
    "X_95_9 = 16.9   # 95> alpha value & 9> DOF\n",
    "X_0 = interval(list)\n",
    "if X_0 < X_95_9 :\n",
    "    print(\"X_0.95_9 = {} \\nX_0 = {} \\nThe hypothesis is not rejected!\".format(X_95_9,X_0))\n",
    "else :\n",
    "    print(\"X_0.95_9 = {} \\nX_0 = {} \\nThe hypothesis rejected!\".format(X_95_9,X_0))"
   ]
  },
  {
   "cell_type": "code",
   "execution_count": null,
   "id": "9686d33a",
   "metadata": {},
   "outputs": [],
   "source": []
  }
 ],
 "metadata": {
  "kernelspec": {
   "display_name": "Python 3 (ipykernel)",
   "language": "python",
   "name": "python3"
  },
  "language_info": {
   "codemirror_mode": {
    "name": "ipython",
    "version": 3
   },
   "file_extension": ".py",
   "mimetype": "text/x-python",
   "name": "python",
   "nbconvert_exporter": "python",
   "pygments_lexer": "ipython3",
   "version": "3.9.12"
  }
 },
 "nbformat": 4,
 "nbformat_minor": 5
}
