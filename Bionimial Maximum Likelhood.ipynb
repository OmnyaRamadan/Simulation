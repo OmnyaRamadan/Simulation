{
 "cells": [
  {
   "cell_type": "code",
   "execution_count": 1,
   "id": "13e756d6",
   "metadata": {},
   "outputs": [],
   "source": [
    "from sympy import * \n",
    "import math  \n",
    "from math import *"
   ]
  },
  {
   "cell_type": "markdown",
   "id": "58917b34",
   "metadata": {},
   "source": [
    "> define variables and PDF of distribution"
   ]
  },
  {
   "cell_type": "code",
   "execution_count": 2,
   "id": "c5335f2a",
   "metadata": {},
   "outputs": [
    {
     "data": {
      "text/latex": [
       "$\\displaystyle \\frac{p^{x} \\left(1 - p\\right)^{n - x} \\left(- n + x\\right) {\\binom{n}{x}}}{1 - p} + \\frac{p^{x} x \\left(1 - p\\right)^{n - x} {\\binom{n}{x}}}{p}$"
      ],
      "text/plain": [
       "p**x*(1 - p)**(n - x)*(-n + x)*binomial(n, x)/(1 - p) + p**x*x*(1 - p)**(n - x)*binomial(n, x)/p"
      ]
     },
     "execution_count": 2,
     "metadata": {},
     "output_type": "execute_result"
    }
   ],
   "source": [
    "n = Symbol('n')  # variables are not defined automatically. To define variables, we must use symbols\n",
    "x = Symbol('x')\n",
    "p = Symbol('p')\n",
    "PDF =  binomial(n, x).expand(func=True) * (p**x) * (1-p)**(n-x)   # to write factorial in PDF of Binomial\n",
    "derivative1 = PDF.diff(p)   #derivative PDF according to p\n",
    "derivative1"
   ]
  },
  {
   "cell_type": "markdown",
   "id": "aa1fdc02",
   "metadata": {},
   "source": [
    "> enter inputs"
   ]
  },
  {
   "cell_type": "code",
   "execution_count": 3,
   "id": "56ca95fa",
   "metadata": {},
   "outputs": [
    {
     "name": "stdout",
     "output_type": "stream",
     "text": [
      "Enter the total number of observations 7\n",
      "Ebter total number of orange fanta 4\n",
      "Ebter total number of grape fanta 3\n"
     ]
    }
   ],
   "source": [
    "nOFobservations = int(input(\"Enter the total number of observations \"))\n",
    "xOForange = int(input(\"Ebter total number of orange fanta \"))\n",
    "xOFgrape = int(input(\"Ebter total number of grape fanta \"))"
   ]
  },
  {
   "cell_type": "code",
   "execution_count": 4,
   "id": "c61507eb",
   "metadata": {},
   "outputs": [
    {
     "name": "stdout",
     "output_type": "stream",
     "text": [
      "parameter_value =  [0, 4/7, 1]\n",
      "max_value =  4/7\n"
     ]
    }
   ],
   "source": [
    "replace1 = derivative1.subs(n ,nOFobservations)\n",
    "replace2 = replace1.subs(x, xOForange)\n",
    "\n",
    "parameter_value = solve(replace2) # equal equation to 0 and solve it\n",
    "max_value = parameter_value[1] \n",
    "print(\"parameter_value = \",parameter_value)\n",
    "print(\"max_value = \",max_value)"
   ]
  },
  {
   "cell_type": "markdown",
   "id": "e141b997",
   "metadata": {},
   "source": [
    "> rechange parameters to calculate accurate paramete"
   ]
  },
  {
   "cell_type": "code",
   "execution_count": 5,
   "id": "114393e6",
   "metadata": {},
   "outputs": [],
   "source": [
    "replace3 = PDF.subs(n ,nOFobservations)\n",
    "replace4 = replace3.subs(x, xOForange)"
   ]
  },
  {
   "cell_type": "markdown",
   "id": "c86fa5da",
   "metadata": {},
   "source": [
    "> calculate accurate paramete"
   ]
  },
  {
   "cell_type": "code",
   "execution_count": 6,
   "id": "a714d841",
   "metadata": {},
   "outputs": [],
   "source": [
    "accurate_paramete = replace4.subs(p, max_value)\n",
    "result = round(accurate_paramete, 3)"
   ]
  },
  {
   "cell_type": "code",
   "execution_count": 7,
   "id": "ad34efaf",
   "metadata": {},
   "outputs": [
    {
     "name": "stdout",
     "output_type": "stream",
     "text": [
      "The highest possible probability to get one orange cans is 0.294\n"
     ]
    }
   ],
   "source": [
    "print(\"The highest possible probability to get one orange cans is\" ,result )"
   ]
  }
 ],
 "metadata": {
  "kernelspec": {
   "display_name": "Python 3 (ipykernel)",
   "language": "python",
   "name": "python3"
  },
  "language_info": {
   "codemirror_mode": {
    "name": "ipython",
    "version": 3
   },
   "file_extension": ".py",
   "mimetype": "text/x-python",
   "name": "python",
   "nbconvert_exporter": "python",
   "pygments_lexer": "ipython3",
   "version": "3.9.12"
  }
 },
 "nbformat": 4,
 "nbformat_minor": 5
}
